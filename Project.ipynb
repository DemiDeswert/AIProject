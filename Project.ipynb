{
 "cells": [
  {
   "cell_type": "code",
   "execution_count": null,
   "metadata": {},
   "outputs": [],
   "source": [
    "import streamlit as st\n",
    "import pickle\n",
    "def load_image():\n",
    "    uploaded_file = st.file_uploader(label='Pick an image to test')\n",
    "    if uploaded_file is not None:\n",
    "        image_data = uploaded_file.getvalue()\n",
    "        st.image(image_data)\n",
    "        return Image.open(io.BytesIO(image_data))\n",
    "    else:\n",
    "        return None\n",
    "def load_model():\n",
    "    pickled_model = pickle.load(open('model.pkl', 'rb'))\n",
    "    return pickled_model \n",
    "\n",
    "def main():\n",
    "    st.title('Pretrained model demo')\n",
    "    model = load_model()\n",
    "    image = load_image()\n",
    "    result = st.button('Run on image')\n",
    "    if result:\n",
    "        st.write('Calculating results...')\n",
    "        model.predict(image, confidence=40, overlap=30).save(\"prediction.jpg\")\n",
    "        prediction = Image.open('prediction.jpg')\n",
    "        st.image(prediction)\n",
    "\n",
    "if __name__ == '__main__':\n",
    "    main()\n",
    "\n",
    "\n",
    "\n",
    "\n"
   ]
  }
 ],
 "metadata": {
  "kernelspec": {
   "display_name": "Python 3.8.10 64-bit (microsoft store)",
   "language": "python",
   "name": "python3"
  },
  "language_info": {
   "codemirror_mode": {
    "name": "ipython",
    "version": 3
   },
   "file_extension": ".py",
   "mimetype": "text/x-python",
   "name": "python",
   "nbconvert_exporter": "python",
   "pygments_lexer": "ipython3",
   "version": "3.8.10"
  },
  "orig_nbformat": 4,
  "vscode": {
   "interpreter": {
    "hash": "d86cf8998166b3d3786632a1e66aa27325bf59bf90f772db81de810f47556ead"
   }
  }
 },
 "nbformat": 4,
 "nbformat_minor": 2
}
